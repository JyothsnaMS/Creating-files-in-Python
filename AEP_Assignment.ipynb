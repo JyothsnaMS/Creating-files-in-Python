{
 "cells": [
  {
   "cell_type": "markdown",
   "id": "94df9ee8",
   "metadata": {},
   "source": [
    "NAME: Jyothsna M S          \n",
    "USN: 4VV19CS063"
   ]
  },
  {
   "cell_type": "markdown",
   "id": "5be7ecc6",
   "metadata": {},
   "source": [
    "# REmoving header from CSV File"
   ]
  },
  {
   "cell_type": "code",
   "execution_count": 26,
   "id": "9fa79572",
   "metadata": {},
   "outputs": [],
   "source": [
    "import csv, os"
   ]
  },
  {
   "cell_type": "code",
   "execution_count": 27,
   "id": "8a67a67f",
   "metadata": {},
   "outputs": [
    {
     "name": "stdout",
     "output_type": "stream",
     "text": [
      "Removing header from file.csv...\n",
      "Removing header from headerRemoved.csv...\n",
      "Removing header from myFile.csv...\n"
     ]
    }
   ],
   "source": [
    "os.makedirs('headerRemoved', exist_ok=True)\n",
    "\n",
    "for csvFilename in os.listdir('.'):\n",
    "    if not csvFilename.endswith('.csv'):\n",
    "        continue\n",
    "    print('Removing header from ' + csvFilename + '...')"
   ]
  },
  {
   "cell_type": "code",
   "execution_count": 28,
   "id": "74de49ee",
   "metadata": {},
   "outputs": [],
   "source": [
    "csvRows = []\n",
    "csvFileObj = open('file.csv')\n",
    "readerObj = csv.reader(csvFileObj)\n",
    "for row in readerObj:\n",
    "    if readerObj.line_num == 1:\n",
    "        continue\n",
    "    csvRows.append(row)\n",
    "csvFileObj.close()\n"
   ]
  },
  {
   "cell_type": "code",
   "execution_count": 29,
   "id": "4c9cbb91",
   "metadata": {},
   "outputs": [],
   "source": [
    "for csvFilename in os.listdir('.'):\n",
    "    if not csvFilename.endswith('.csv'):\n",
    "        continue\n",
    "    csvFileObj = open(os.path.join('headerRemoved', csvFilename), 'w',newline='')\n",
    "    csvWriter = csv.writer(csvFileObj)\n",
    "    for row in csvRows:\n",
    "        csvWriter.writerow(row)\n",
    "    csvFileObj.close()"
   ]
  },
  {
   "cell_type": "markdown",
   "id": "cae49c19",
   "metadata": {},
   "source": [
    "# Combining Selected Pages"
   ]
  },
  {
   "cell_type": "code",
   "execution_count": 30,
   "id": "95d7844b",
   "metadata": {},
   "outputs": [
    {
     "ename": "FileNotFoundError",
     "evalue": "[Errno 2] No such file or directory: 'Electronic_Honey_Quality_Analyser.pdf'",
     "output_type": "error",
     "traceback": [
      "\u001b[1;31m---------------------------------------------------------------------------\u001b[0m",
      "\u001b[1;31mFileNotFoundError\u001b[0m                         Traceback (most recent call last)",
      "\u001b[1;32m<ipython-input-30-3e332ad68233>\u001b[0m in \u001b[0;36m<module>\u001b[1;34m\u001b[0m\n\u001b[0;32m      1\u001b[0m \u001b[1;32mimport\u001b[0m \u001b[0mPyPDF2\u001b[0m\u001b[1;33m\u001b[0m\u001b[1;33m\u001b[0m\u001b[0m\n\u001b[0;32m      2\u001b[0m \u001b[1;33m\u001b[0m\u001b[0m\n\u001b[1;32m----> 3\u001b[1;33m \u001b[0mpdf1\u001b[0m \u001b[1;33m=\u001b[0m \u001b[0mopen\u001b[0m\u001b[1;33m(\u001b[0m\u001b[1;34m'Electronic_Honey_Quality_Analyser.pdf'\u001b[0m\u001b[1;33m,\u001b[0m \u001b[1;34m'rb'\u001b[0m\u001b[1;33m)\u001b[0m\u001b[1;33m\u001b[0m\u001b[1;33m\u001b[0m\u001b[0m\n\u001b[0m\u001b[0;32m      4\u001b[0m \u001b[0mpdf_reader\u001b[0m\u001b[1;33m=\u001b[0m\u001b[0mPyPDF2\u001b[0m\u001b[1;33m.\u001b[0m\u001b[0mPdfFileReader\u001b[0m\u001b[1;33m(\u001b[0m\u001b[0mpdf1\u001b[0m\u001b[1;33m)\u001b[0m\u001b[1;33m\u001b[0m\u001b[1;33m\u001b[0m\u001b[0m\n\u001b[0;32m      5\u001b[0m \u001b[1;33m\u001b[0m\u001b[0m\n",
      "\u001b[1;31mFileNotFoundError\u001b[0m: [Errno 2] No such file or directory: 'Electronic_Honey_Quality_Analyser.pdf'"
     ]
    }
   ],
   "source": [
    "import PyPDF2\n",
    "\n",
    "pdf1 = open('Electronic_Honey_Quality_Analyser.pdf', 'rb')\n",
    "pdf_reader=PyPDF2.PdfFileReader(pdf1)\n",
    "\n",
    "pdf2 = open('foods-09-01028.pdf', 'rb')\n",
    "pdf_reader2=PyPDF2.PdfFileReader(pdf2)\n",
    "\n",
    "pdf3=open('2015CCLM-0668.pdf', 'rb')\n",
    "pdf_reader3=PyPDF2.PdfFileReader(pdf3)"
   ]
  },
  {
   "cell_type": "markdown",
   "id": "be9ce8a2",
   "metadata": {},
   "source": [
    "pdfread1=PyPDF2.PdfFileReader(pdf1)\n",
    "pdfread2=PyPDF2.PdfFileReader(pdf2)\n",
    "pdfread3=PyPDF2.PdfFileReader(pdf3)"
   ]
  },
  {
   "cell_type": "code",
   "execution_count": null,
   "id": "e7079415",
   "metadata": {},
   "outputs": [],
   "source": [
    "pdfWriter=PyPDF2.PdfFileWriter()"
   ]
  },
  {
   "cell_type": "code",
   "execution_count": null,
   "id": "9a270d30",
   "metadata": {},
   "outputs": [],
   "source": [
    "for pages in range(2, 4):\n",
    "    pdfWriter.addPage(pdf_reader.getPage(pages))\n",
    "for pages in range(4, 6):\n",
    "    pdfWriter.addPage(pdf_reader2.getPage(pages))\n",
    "for pages in range(6, 8):\n",
    "    pdfWriter.addPage(pdf_reader3.getPage(pages))"
   ]
  },
  {
   "cell_type": "code",
   "execution_count": null,
   "id": "ddbf2e69",
   "metadata": {},
   "outputs": [],
   "source": [
    "assignment = open('assignment.pdf', 'wb')"
   ]
  },
  {
   "cell_type": "code",
   "execution_count": null,
   "id": "081e4205",
   "metadata": {},
   "outputs": [],
   "source": [
    "pdfWriter.write(assignment)"
   ]
  },
  {
   "cell_type": "code",
   "execution_count": null,
   "id": "6024368e",
   "metadata": {},
   "outputs": [],
   "source": [
    "assignment.close()\n",
    "pdf1.close()\n",
    "pdf2.close()\n",
    "pdf3.close()"
   ]
  },
  {
   "cell_type": "markdown",
   "id": "f586638b",
   "metadata": {},
   "source": [
    "# Question 1"
   ]
  },
  {
   "cell_type": "code",
   "execution_count": 32,
   "id": "626bd8da",
   "metadata": {},
   "outputs": [
    {
     "name": "stdout",
     "output_type": "stream",
     "text": [
      "\n",
      "Enter Number : 6\n",
      "\n",
      "Enter Number : 14\n",
      "\n",
      "Enter Number : bad data\n",
      "Invalid Input\n",
      "\n",
      "Enter Number : 6\n",
      "\n",
      "Enter Number : done\n",
      "Total is  26\n",
      "Average is  8.666666666666666\n",
      "Total Count is :  3\n"
     ]
    }
   ],
   "source": [
    "n=0\n",
    "j=0\n",
    "\n",
    "while(True):\n",
    "    a = input(\"\\nEnter Number : \")\n",
    "    try :\n",
    "        if a == 'done':\n",
    "            break\n",
    "        else :\n",
    "            n = n + int(a)\n",
    "            j = j+1\n",
    "            average = n/j\n",
    "    except:\n",
    "        print(\"Invalid Input\")\n",
    "        continue\n",
    "print(\"Total is \", int(n))\n",
    "print(\"Average is \", float(average))\n",
    "print(\"Total Count is : \", int(j))"
   ]
  },
  {
   "cell_type": "markdown",
   "id": "6a38bafd",
   "metadata": {},
   "source": [
    "# Question 2"
   ]
  },
  {
   "cell_type": "code",
   "execution_count": 33,
   "id": "af197055",
   "metadata": {},
   "outputs": [
    {
     "name": "stdout",
     "output_type": "stream",
     "text": [
      "Enter number : 6\n",
      "Enter number : 3\n",
      "Enter number : 1\n",
      "Enter number : 1\n",
      "Enter number : done\n",
      "[6, 3, 1, 1]\n",
      "1.0\n",
      "6.0\n"
     ]
    }
   ],
   "source": [
    "lst=[]\n",
    "while(True):\n",
    "    n=input(\"Enter number : \")\n",
    "    try:\n",
    "        if n == 'done':\n",
    "            break \n",
    "        else:\n",
    "            lst.append(int(n))\n",
    "    except:\n",
    "        print(\"Invalid Input\")\n",
    "        continue\n",
    "print(lst)\n",
    "print(float(min(lst)))\n",
    "print(float(max(lst)))"
   ]
  },
  {
   "cell_type": "code",
   "execution_count": null,
   "id": "1dc6a3f8",
   "metadata": {},
   "outputs": [],
   "source": []
  }
 ],
 "metadata": {
  "kernelspec": {
   "display_name": "Python 3",
   "language": "python",
   "name": "python3"
  },
  "language_info": {
   "codemirror_mode": {
    "name": "ipython",
    "version": 3
   },
   "file_extension": ".py",
   "mimetype": "text/x-python",
   "name": "python",
   "nbconvert_exporter": "python",
   "pygments_lexer": "ipython3",
   "version": "3.8.8"
  }
 },
 "nbformat": 4,
 "nbformat_minor": 5
}
